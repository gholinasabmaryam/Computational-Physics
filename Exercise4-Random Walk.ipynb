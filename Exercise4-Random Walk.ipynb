{
 "cells": [
  {
   "cell_type": "markdown",
   "metadata": {},
   "source": [
    "# Exercise 4 - Random Walk"
   ]
  },
  {
   "cell_type": "markdown",
   "metadata": {},
   "source": [
    "## Question 5.2 (1 Dimensional Random Walk with ⟨x(t)⟩ & σ^2)"
   ]
  },
  {
   "cell_type": "markdown",
   "metadata": {},
   "source": [
    "### P=0.5"
   ]
  },
  {
   "cell_type": "code",
   "execution_count": 220,
   "metadata": {},
   "outputs": [
    {
     "name": "stdout",
     "output_type": "stream",
     "text": [
      "⟨x(t)⟩ =  10.04\n",
      "expected(⟨x(t)⟩) =  0.0\n",
      "⟨x(t)⟩_error =  100.0 %\n",
      "\n",
      "σ^2 =  35.818400000000025\n",
      "expected(σ^2) =  100.0\n",
      "σ^2_error =  64.18 %\n"
     ]
    }
   ],
   "source": [
    "import numpy as np\n",
    "\n",
    "l=1 # length of the step\n",
    "p=0.5\n",
    "stepnum=100 #t/τ = number of steps\n",
    "averagex=0  \n",
    "averagex2=0\n",
    "x=0\n",
    "for i in range (stepnum):\n",
    "    randwalk=np.random.rand()\n",
    "    if randwalk < p:  #left  q=1-p\n",
    "        x=x-l\n",
    "        averagex+=x\n",
    "        averagex2+=x**2\n",
    "    else: #right #p\n",
    "        x=x+l \n",
    "        averagex+=x\n",
    "        averagex2+=x**2\n",
    "avxt=averagex/stepnum #average of x\n",
    "variance= (averagex2/stepnum)-(avxt**2)\n",
    "\n",
    "#⟨x(t)⟩\n",
    "print(\"⟨x(t)⟩ = \", avxt) \n",
    "\n",
    "#finding the difference of the result with the theoretical amounts:\n",
    "\n",
    "# equation 6 in book : ⟨x(t)⟩ = l/τ(p-q)t = l*stepnum*(-1+2p) = stepnum*(-1+2p)\n",
    "# p=0.5 -> ⟨x(t)⟩ = 100 (-1+1)=0\n",
    "expectedp=stepnum*(-1+2*p)\n",
    "\n",
    "print(\"expected(⟨x(t)⟩) = \", expectedp) \n",
    "print(\"⟨x(t)⟩_error = \",round((abs((avxt-expectedp)/avxt)*100),2), \"%\")\n",
    "\n",
    "print()\n",
    "#σ^2 \n",
    "print(\"σ^2 = \", variance)\n",
    "\n",
    "# equation 7 in book : σ^2 = (4l^2/τ) pqt = (4l^2/τ)p(1-p)t = 4l^2 stepnum p(1-p) = 4*stepnum*p(1-p)\n",
    "# p=0.5 -> σ^2 = 400*0.5*(0.5)=100\n",
    "expectedvariance=4*stepnum*p*(1-p)\n",
    "\n",
    "print(\"expected(σ^2) = \", expectedvariance)\n",
    "print(\"σ^2_error = \",round(((abs(variance-expectedvariance)/expectedvariance)*100),2), \"%\")"
   ]
  },
  {
   "cell_type": "markdown",
   "metadata": {},
   "source": [
    "### P=0.8"
   ]
  },
  {
   "cell_type": "code",
   "execution_count": 225,
   "metadata": {},
   "outputs": [
    {
     "name": "stdout",
     "output_type": "stream",
     "text": [
      "⟨x(t)⟩ =  -27.48\n",
      "expected(⟨x(t)⟩) =  60.0\n",
      "⟨x(t)⟩_error =  145.8 %\n",
      "\n",
      "σ^2 =  269.8296\n",
      "expected(σ^2) =  64.0\n",
      "σ^2_error =  321.61 %\n"
     ]
    }
   ],
   "source": [
    "import numpy as np\n",
    "\n",
    "l=1 # length of the step\n",
    "p=0.8\n",
    "stepnum=100 #t/tao = number of steps\n",
    "averagex=0  \n",
    "averagex2=0\n",
    "x=0\n",
    "for i in range (stepnum):\n",
    "    randwalk=np.random.rand()\n",
    "    if randwalk < p:  #left  q=1-p\n",
    "        x=x-l\n",
    "        averagex+=x\n",
    "        averagex2+=x**2\n",
    "    else: #right #p\n",
    "        x=x+l \n",
    "        averagex+=x\n",
    "        averagex2+=x**2\n",
    "avxt=averagex/stepnum #average of x\n",
    "variance= (averagex2/stepnum)-(avxt**2)\n",
    "\n",
    "#⟨x(t)⟩\n",
    "print(\"⟨x(t)⟩ = \", avxt) \n",
    "\n",
    "#finding the difference of the result with the theoretical amounts:\n",
    "\n",
    "# equation 6 in book : ⟨x(t)⟩ = l/τ(p-q)t = l*stepnum*(-1+2p) = stepnum*(-1+2p)\n",
    "expectedp=stepnum*(-1+2*p)\n",
    "\n",
    "print(\"expected(⟨x(t)⟩) = \", round((expectedp),2))\n",
    "print(\"⟨x(t)⟩_error = \",round(((abs(avxt-expectedp)/expectedp)*100),2), \"%\")\n",
    "\n",
    "print()\n",
    "#σ^2 \n",
    "print(\"σ^2 = \", variance)\n",
    "\n",
    "# equation 7 in book : σ^2 = (4l^2/τ) pqt = (4l^2/τ)p(1-p)t = 4l^2 stepnum p(1-p) = 4*stepnum*p(1-p)\n",
    "expectedvariance=4*stepnum*p*(1-p)\n",
    "\n",
    "print(\"expected(σ^2) = \", round((expectedvariance),2))\n",
    "print(\"σ^2_error = \",round(((abs(variance-expectedvariance)/expectedvariance)*100),2), \"%\")"
   ]
  },
  {
   "cell_type": "markdown",
   "metadata": {},
   "source": [
    "### P=0.2"
   ]
  },
  {
   "cell_type": "code",
   "execution_count": 247,
   "metadata": {},
   "outputs": [
    {
     "name": "stdout",
     "output_type": "stream",
     "text": [
      "⟨x(t)⟩ =  31.22\n",
      "expected(⟨x(t)⟩) =  -60.0\n",
      "⟨x(t)⟩_error =  152.03 %\n",
      "\n",
      "σ^2 =  276.73\n",
      "expected(σ^2) =  64.0\n",
      "σ^2_error =  332.39 %\n"
     ]
    }
   ],
   "source": [
    "import numpy as np\n",
    "\n",
    "l=1 # length of the step\n",
    "p=0.2\n",
    "stepnum=100 #t/tao = number of steps\n",
    "averagex=0  \n",
    "averagex2=0\n",
    "x=0\n",
    "for i in range (stepnum):\n",
    "    randwalk=np.random.rand()\n",
    "    if randwalk < p:  #left  q=1-p\n",
    "        x=x-l\n",
    "        averagex+=x\n",
    "        averagex2+=x**2\n",
    "    else: #right #p\n",
    "        x=x+l \n",
    "        averagex+=x\n",
    "        averagex2+=x**2\n",
    "avxt=averagex/stepnum #average of x\n",
    "variance= (averagex2/stepnum)-(avxt**2)\n",
    "#⟨x(t)⟩\n",
    "print(\"⟨x(t)⟩ = \", avxt) \n",
    "\n",
    "#finding the difference of the result with the theoretical amounts:\n",
    "\n",
    "# equation 6 in book : ⟨x(t)⟩ = l/τ(p-q)t = l*stepnum*(-1+2p) = stepnum*(-1+2p)\n",
    "expectedp=stepnum*(-1+2*p)\n",
    "\n",
    "print(\"expected(⟨x(t)⟩) = \", expectedp) \n",
    "print(\"⟨x(t)⟩_error = \",round((abs((avxt-expectedp)/expectedp)*100),2), \"%\")\n",
    "\n",
    "print()\n",
    "#σ^2 \n",
    "print(\"σ^2 = \", round(variance,2))\n",
    "\n",
    "# equation 7 in book : σ^2 = (4l^2/τ) pqt = (4l^2/τ)p(1-p)t = 4l^2 stepnum p(1-p) = 4*stepnum*p(1-p)\n",
    "expectedvariance=4*stepnum*p*(1-p)\n",
    "\n",
    "print(\"expected(σ^2) = \", expectedvariance)\n",
    "print(\"σ^2_error = \",round(((abs(variance-expectedvariance)/expectedvariance)*100),2), \"%\")"
   ]
  },
  {
   "cell_type": "markdown",
   "metadata": {},
   "source": [
    "## Question 5.3 (Random Walk with traps (absorbent wall))"
   ]
  },
  {
   "cell_type": "markdown",
   "metadata": {},
   "source": [
    "### Starting point=0"
   ]
  },
  {
   "cell_type": "code",
   "execution_count": 58,
   "metadata": {},
   "outputs": [
    {
     "name": "stdout",
     "output_type": "stream",
     "text": [
      "lifetime=  [56, 184, 46, 86, 40, 62, 118, 140, 58, 224]\n",
      "<lifetime>=  101.4\n"
     ]
    }
   ],
   "source": [
    "import numpy as np\n",
    "\n",
    "l=1 # length of the step\n",
    "p=0.5\n",
    "repentance =10\n",
    "lifetime=[]\n",
    "lt=0\n",
    "for i in range(repentance): #how many times should the mass reach the wall and start again\n",
    "    stepnum=0 #t/τ = number of steps\n",
    "    x=0\n",
    "    while x!=10 and x!=-10 : #walls at 10 and -10\n",
    "        randwalk=np.random.rand() \n",
    "        if randwalk < p:  #left  q=1-p\n",
    "            x=x-l\n",
    "            stepnum+=1\n",
    "        else: #right #p\n",
    "            x=x+l \n",
    "            stepnum+=1\n",
    "    lifetime.append(stepnum)\n",
    "    lt+=stepnum\n",
    "\n",
    "print(\"lifetime= \", lifetime) #the numer of steps the mass takes to reac the walls for 10 times trying\n",
    "#now calculating the average value of life time:\n",
    "avglifetime=lt/repentance\n",
    "print(\"<lifetime>= \", avglifetime)\n"
   ]
  },
  {
   "cell_type": "markdown",
   "metadata": {},
   "source": [
    "### Starting point=1"
   ]
  },
  {
   "cell_type": "code",
   "execution_count": 169,
   "metadata": {},
   "outputs": [
    {
     "name": "stdout",
     "output_type": "stream",
     "text": [
      "lifetime=  [87, 105, 81, 99, 61, 151, 27, 79, 43, 67]\n",
      "<lifetime>=  80.0\n"
     ]
    }
   ],
   "source": [
    "import numpy as np\n",
    "\n",
    "l=1 # length of the step\n",
    "p=0.5 \n",
    "repentance =10\n",
    "lifetime=[]\n",
    "lt=0\n",
    "for i in range(repentance): #how many times should the mass reach the wall and start again\n",
    "    stepnum=0 #t/τ = number of steps\n",
    "    x=1\n",
    "    while x!=10 and x!=-10 : #walls at 10 and -10\n",
    "        randwalk=np.random.rand() \n",
    "        if randwalk < p:  #left  q=1-p\n",
    "            x=x-l\n",
    "            stepnum+=1\n",
    "        else: #right #p\n",
    "            x=x+l \n",
    "            stepnum+=1\n",
    "    lifetime.append(stepnum)\n",
    "    lt+=stepnum\n",
    "\n",
    "print(\"lifetime= \", lifetime) #the numer of steps the mass takes to reac the walls for 10 times trying\n",
    "#now calculating the average value of life time:\n",
    "avglifetime=lt/repentance\n",
    "print(\"<lifetime>= \", avglifetime)\n"
   ]
  },
  {
   "cell_type": "markdown",
   "metadata": {},
   "source": [
    "### Starting point=10"
   ]
  },
  {
   "cell_type": "code",
   "execution_count": 172,
   "metadata": {},
   "outputs": [
    {
     "name": "stdout",
     "output_type": "stream",
     "text": [
      "lifetime=  [0, 0, 0, 0, 0, 0, 0, 0, 0, 0]\n",
      "<lifetime>=  0.0\n"
     ]
    }
   ],
   "source": [
    "import numpy as np\n",
    "\n",
    "l=1 # length of the step\n",
    "p=0.5\n",
    "repentance =10\n",
    "lifetime=[]\n",
    "lt=0\n",
    "for i in range(repentance): #how many times should the mass reach the wall and start again\n",
    "    stepnum=0 #t/τ = number of steps\n",
    "    x=10\n",
    "    while x!=10 and x!=-10 : #walls at 10 and -10\n",
    "        randwalk=np.random.rand() \n",
    "        if randwalk < p:  #left  q=1-p\n",
    "            x=x-l\n",
    "            stepnum+=1\n",
    "        else: #right #p\n",
    "            x=x+l \n",
    "            stepnum+=1\n",
    "    lifetime.append(stepnum)\n",
    "    lt+=stepnum\n",
    "\n",
    "print(\"lifetime= \", lifetime) #the numer of steps the mass takes to reac the walls for 10 times trying\n",
    "#now calculating the average value of life time:\n",
    "avglifetime=lt/repentance\n",
    "print(\"<lifetime>= \", avglifetime)\n"
   ]
  },
  {
   "cell_type": "markdown",
   "metadata": {},
   "source": [
    "### Starting point=-5"
   ]
  },
  {
   "cell_type": "code",
   "execution_count": 200,
   "metadata": {},
   "outputs": [
    {
     "name": "stdout",
     "output_type": "stream",
     "text": [
      "lifetime=  [79, 13, 29, 125, 5, 57, 63, 93, 99, 37]\n",
      "<lifetime>=  60.0\n"
     ]
    }
   ],
   "source": [
    "import numpy as np\n",
    "\n",
    "l=1 # length of the step\n",
    "p=0.5\n",
    "repentance =10\n",
    "lifetime=[]\n",
    "lt=0\n",
    "for i in range(repentance): #how many times should the mass reach the wall and start again\n",
    "    stepnum=0 #t/τ = number of steps\n",
    "    x=-5\n",
    "    while x!=10 and x!=-10 : #walls at 10 and -10\n",
    "        randwalk=np.random.rand() \n",
    "        if randwalk < p:  #left  q=1-p\n",
    "            x=x-l\n",
    "            stepnum+=1\n",
    "        else: #right #p\n",
    "            x=x+l \n",
    "            stepnum+=1\n",
    "    lifetime.append(stepnum)\n",
    "    lt+=stepnum\n",
    "\n",
    "print(\"lifetime= \", lifetime) #the numer of steps the mass takes to reac the walls for 10 times trying\n",
    "#now calculating the average value of life time:\n",
    "avglifetime=lt/repentance\n",
    "print(\"<lifetime>= \", avglifetime)\n"
   ]
  },
  {
   "cell_type": "markdown",
   "metadata": {},
   "source": [
    "## Question 5.5(2 Dimensional Random Walk)"
   ]
  },
  {
   "cell_type": "code",
   "execution_count": 168,
   "metadata": {},
   "outputs": [
    {
     "name": "stdout",
     "output_type": "stream",
     "text": [
      "the coordinate of the mass: [16, 6]\n",
      "expected(<𝒓^2>) =  200\n",
      "<𝒓^2> =  81.86\n",
      "<𝒓^2>_error =  59.07 %\n"
     ]
    }
   ],
   "source": [
    "import numpy as np\n",
    "\n",
    "l=1 # length of the step\n",
    "stepnum=100 #t/τ = number of steps\n",
    "r=[0,0]\n",
    "r2=0\n",
    "for i in range (stepnum):\n",
    "    randdirection=np.random.randint(1,5) #randomly choosing 1 of the 4 direction\n",
    "    if randdirection==1:  #left\n",
    "        r[0]-=1\n",
    "        r2+=r[0]**2    \n",
    "    if randdirection==2:  #right \n",
    "        r[0]+=1\n",
    "        r2+=r[0]**2    \n",
    "    if randdirection ==3:  #up\n",
    "        r[1]+=1\n",
    "        r2+=r[1]**2    \n",
    "    if randdirection==4 : #down \n",
    "        r[1]-=1\n",
    "        r2+=r[1]**2    \n",
    "\n",
    "print(\"the coordinate of the mass:\",r)\n",
    "\n",
    "# to see if the equetion 14: <𝒓^2> =𝟐dDt  #d:dimension of the space =2 /    D=l^2/2τ  \n",
    "#<𝒓^2> =𝟐t*2*(1/(2*)τ)=2t/τ =200\n",
    "expectedr2=2*stepnum\n",
    "print(\"expected(<𝒓^2>) = \", expectedr2) \n",
    "R2=r2/stepnum\n",
    "print(\"<𝒓^2> = \",R2 )\n",
    "print(\"<𝒓^2>_error = \",round(((abs((R2-expectedr2)/expectedr2))*100),2), \"%\")"
   ]
  },
  {
   "cell_type": "markdown",
   "metadata": {},
   "source": [
    "## Question 5.6 (2 Dimensional Diffusion limited Aggregation with a starting line)"
   ]
  },
  {
   "cell_type": "code",
   "execution_count": 252,
   "metadata": {},
   "outputs": [
    {
     "data": {
      "image/png": "[encoded data removed]",
      "text/plain": [
       "<Figure size 640x480 with 1 Axes>"
      ]
     },
     "metadata": {},
     "output_type": "display_data"
    }
   ],
   "source": [
    "import numpy as np\n",
    "import matplotlib.pyplot as plt\n",
    "import matplotlib.patches as patches\n",
    "\n",
    "fig, ax = plt.subplots()\n",
    "ax.set_xlim(0,200)\n",
    "ax.set_ylim(0,40)\n",
    "\n",
    "#coloring the first row of the squares:\n",
    "coloredsquares=[]\n",
    "for i in range(0,200,1):\n",
    "    square= plt.Rectangle([i, 0], 1, 1, fill=True, facecolor='hotpink', edgecolor='hotpink', linewidth=2)\n",
    "    ax.add_patch(square)\n",
    "    coloredsquares.append([i,0])\n",
    "\n",
    "\n",
    "#doing the 2D random walk from a fixed starting point:\n",
    "pointsnum=10000 #the number of dots that it's going to draw\n",
    "for i in range (pointsnum):\n",
    "    r=[100,20] #starting point\n",
    "    while True:\n",
    "        randdirection=np.random.randint(1,5) #randomly choosing 1 of the 4 direction\n",
    "        if randdirection==1:  #left\n",
    "            r[0]-=1\n",
    "        if randdirection==2:  #right \n",
    "            r[0]+=1\n",
    "        if randdirection ==3:  #up\n",
    "            r[1]+=1\n",
    "        if randdirection==4 : #down \n",
    "            r[1]-=1\n",
    "        if r[1] == 40: #not letting the walk go out of the y axis limit from above\n",
    "            break\n",
    "        if r[0]==-1 or r[0]==201 : #not letting the walk go out of the x axis limit\n",
    "            break\n",
    "        #cheking the neighbors of the point to see if it's in the colored squares then it will be added\n",
    "        if [r[0],r[1]-1] in coloredsquares : #down\n",
    "            coloredsquares.append([r[0],r[1]])\n",
    "            square= plt.Rectangle([r[0],r[1]], 1, 1, fill=True, facecolor='hotpink', edgecolor='hotpink', linewidth=2)\n",
    "            ax.add_patch(square)\n",
    "            break\n",
    "        if [r[0]-1,r[1]] in coloredsquares : #left\n",
    "            coloredsquares.append([r[0],r[1]])\n",
    "            square= plt.Rectangle([r[0],r[1]], 1, 1, fill=True, facecolor='hotpink', edgecolor='hotpink', linewidth=2)\n",
    "            ax.add_patch(square)\n",
    "            break\n",
    "        if [r[0]+1,r[1]] in coloredsquares : #right\n",
    "            coloredsquares.append([r[0],r[1]])\n",
    "            square= plt.Rectangle([r[0],r[1]], 1, 1, fill=True, facecolor='hotpink', edgecolor='hotpink', linewidth=2)\n",
    "            ax.add_patch(square)\n",
    "            break\n",
    "plt.show()"
   ]
  },
  {
   "cell_type": "markdown",
   "metadata": {},
   "source": [
    "## Question 5.7 (2 Dimensional Diffusion limited Aggregation with a starting point)"
   ]
  },
  {
   "cell_type": "markdown",
   "metadata": {},
   "source": [
    "### Circle Starter"
   ]
  },
  {
   "cell_type": "code",
   "execution_count": null,
   "metadata": {},
   "outputs": [
    {
     "data": {
      "image/png": "[encoded data removed]",
      "text/plain": [
       "<Figure size 640x480 with 1 Axes>"
      ]
     },
     "metadata": {},
     "output_type": "display_data"
    }
   ],
   "source": [
    "import numpy as np\n",
    "import math\n",
    "import matplotlib.pyplot as plt\n",
    "import matplotlib.patches as patches\n",
    "\n",
    "fig, ax = plt.subplots()\n",
    "ax.set_xlim(0,200)\n",
    "ax.set_ylim(-40,40)\n",
    "\n",
    "#coloring the first row of the squares:\n",
    "coloredsquares=[]\n",
    "#instead of first row to be a line we have a point(100,0)\n",
    "square= plt.Rectangle([100, 0], 1, 1, fill=True, facecolor='hotpink', edgecolor='hotpink', linewidth=2)\n",
    "ax.add_patch(square)\n",
    "coloredsquares.append([100,0])\n",
    "\n",
    "\n",
    "#doing the 2D random walk on a circle:\n",
    "pointsnum=2000 #the number of dots that it's going to draw\n",
    "for i in range (pointsnum):\n",
    "    y=np.random.randint(1,20) #making the y of the circle\n",
    "    x=math.sqrt(400-y**2) #x^2+y^2=r^2 -> x=sqrt(400-y^2)\n",
    "    r=[x+100,y] #starting point (on the circle)\n",
    "    #doing the random walk\n",
    "    while True:\n",
    "        randdirection=np.random.randint(1,5) #randomly choosing 1 of the 4 direction\n",
    "        if randdirection==1:  #left\n",
    "            r[0]-=1\n",
    "        if randdirection==2:  #right \n",
    "            r[0]+=1\n",
    "        if randdirection ==3: #up\n",
    "            r[1]+=1\n",
    "        if randdirection==4 : #down \n",
    "            r[1]-=1\n",
    "        if r[1] == 40 or r[1] == -40: #not letting the walk go out of the y axis limit from above (we added the -40 part because it won't stop from bottom)\n",
    "            break\n",
    "        if r[0]==-1 or r[0]==201 : #not letting the walk go out of the x axis limit\n",
    "            break\n",
    "        #setting bondries: cheking the neighbors of the point to see if it's in the colored squares then it will be added\n",
    "        if [r[0],r[1]-1] in coloredsquares : #down\n",
    "            coloredsquares.append([r[0],r[1]])\n",
    "            square= plt.Rectangle([r[0],r[1]], 1, 1, fill=True, facecolor='hotpink', edgecolor='hotpink', linewidth=2)\n",
    "            ax.add_patch(square)\n",
    "            break\n",
    "        if [r[0]-1,r[1]] in coloredsquares : #left\n",
    "            coloredsquares.append([r[0],r[1]])\n",
    "            square= plt.Rectangle([r[0],r[1]], 1, 1, fill=True, facecolor='hotpink', edgecolor='hotpink', linewidth=2)\n",
    "            ax.add_patch(square)\n",
    "            break\n",
    "        if [r[0]+1,r[1]] in coloredsquares : #right\n",
    "            coloredsquares.append([r[0],r[1]])\n",
    "            square= plt.Rectangle([r[0],r[1]], 1, 1, fill=True, facecolor='hotpink', edgecolor='hotpink', linewidth=2)\n",
    "            ax.add_patch(square)\n",
    "            break\n",
    "plt.show()"
   ]
  },
  {
   "cell_type": "markdown",
   "metadata": {},
   "source": [
    "### Square Starter"
   ]
  },
  {
   "cell_type": "code",
   "execution_count": 253,
   "metadata": {},
   "outputs": [
    {
     "data": {
      "image/png": "[encoded data removed]",
      "text/plain": [
       "<Figure size 640x480 with 1 Axes>"
      ]
     },
     "metadata": {},
     "output_type": "display_data"
    }
   ],
   "source": [
    "import numpy as np\n",
    "import math\n",
    "import matplotlib.pyplot as plt\n",
    "import matplotlib.patches as patches\n",
    "\n",
    "fig, ax = plt.subplots()\n",
    "ax.set_xlim(0,200)\n",
    "ax.set_ylim(-40,40)\n",
    "\n",
    "#coloring the first row of the squares:\n",
    "coloredsquares=[]\n",
    "#instead of first row to be a line we have a point(100,0)\n",
    "square= plt.Rectangle([100, 0], 1, 1, fill=True, facecolor='hotpink', edgecolor='hotpink', linewidth=2)\n",
    "ax.add_patch(square)\n",
    "coloredsquares.append([100,0])\n",
    "\n",
    "\n",
    "#doing the 2D random walk on a square:\n",
    "pointsnum=3000 #the number of dots that it's going to draw\n",
    "for i in range (pointsnum):\n",
    "    #making the square:\n",
    "    x=np.random.randint(0,20) #choosing the x randomly in te 0 till 20 region\n",
    "    if x==0 or x==20: #if x is on the boundry...\n",
    "        y=np.random.randint(0,20) #choosing randomly bwtween 0 to 20  \n",
    "    else:\n",
    "        meow=np.random.randint(0,2) #choose randomly between 1 or 2...\n",
    "        if meow==1: #if it is 1 then y=0\n",
    "            y=0\n",
    "        if meow==2: #if it is 2 then y=20\n",
    "            y=20\n",
    "    r=[x+100,y] #starting point (on the circle)\n",
    "    #doing the random walk\n",
    "    while True:\n",
    "        randdirection=np.random.randint(1,5) #randomly choosing 1 of the 4 direction\n",
    "        if randdirection==1:  #left\n",
    "            r[0]-=1\n",
    "        if randdirection==2:  #right \n",
    "            r[0]+=1\n",
    "        if randdirection ==3: #up\n",
    "            r[1]+=1\n",
    "        if randdirection==4 : #down \n",
    "            r[1]-=1\n",
    "        if r[1] == 40 or r[1] == -40: #not letting the walk go out of the y axis limit from above (we added the -40 part because it won't stop from bottom)\n",
    "            break\n",
    "        if r[0]==-1 or r[0]==201 : #not letting the walk go out of the x axis limit\n",
    "            break\n",
    "        #setting bondries: cheking the neighbors of the point to see if it's in the colored squares then it will be added\n",
    "        if [r[0],r[1]-1] in coloredsquares : #down\n",
    "            coloredsquares.append([r[0],r[1]])\n",
    "            square= plt.Rectangle([r[0],r[1]], 1, 1, fill=True, facecolor='hotpink', edgecolor='hotpink', linewidth=2)\n",
    "            ax.add_patch(square)\n",
    "            break\n",
    "        if [r[0]-1,r[1]] in coloredsquares : #left\n",
    "            coloredsquares.append([r[0],r[1]])\n",
    "            square= plt.Rectangle([r[0],r[1]], 1, 1, fill=True, facecolor='hotpink', edgecolor='hotpink', linewidth=2)\n",
    "            ax.add_patch(square)\n",
    "            break\n",
    "        if [r[0]+1,r[1]] in coloredsquares : #right\n",
    "            coloredsquares.append([r[0],r[1]])\n",
    "            square= plt.Rectangle([r[0],r[1]], 1, 1, fill=True, facecolor='hotpink', edgecolor='hotpink', linewidth=2)\n",
    "            ax.add_patch(square)\n",
    "            break\n",
    "plt.show()"
   ]
  },
  {
   "cell_type": "markdown",
   "metadata": {},
   "source": [
    "## Question 5.8 (1 Dimensional Self-Avoiding Random Walk (SAW))"
   ]
  },
  {
   "cell_type": "code",
   "execution_count": null,
   "metadata": {},
   "outputs": [
    {
     "name": "stdout",
     "output_type": "stream",
     "text": [
      "random walk length everytime it reaches a dead end = [65, 23, 32, 37, 109, 82, 29, 53, 49]\n",
      "the coordinate of the mass: [-2, -23]\n"
     ]
    }
   ],
   "source": [
    "#using 5.5 for this question:\n",
    "#for the self avoiding RW the only difference from the simple RW is this: the probability of going to every block is the same only if it wasn't seen before\n",
    "import numpy as np\n",
    "\n",
    "l=1 # length of the step\n",
    "stepnum=1000 #t/τ = number of steps\n",
    "r=[0,0]\n",
    "seenblocks=[]\n",
    "list=[]\n",
    "walklength=0 #the number of steps taken to go to a deadend (where all it's neighbors are already seen)\n",
    "#doing the random walk\n",
    "for i in range (stepnum):\n",
    "    randdirection=np.random.randint(1,5) #randomly choosen blocks.append([r[0],r[1]])sing 1 of the 4 direction\n",
    "    if randdirection==1:  #left\n",
    "        if [r[0]-1,r[1]] not in seenblocks:\n",
    "            r[0]-=1\n",
    "            seenblocks.append([r[0],r[1]])\n",
    "            walklength+=1\n",
    "    if randdirection==2:  #right \n",
    "        if [r[0]+1,r[1]] not in seenblocks:\n",
    "            r[0]+=1\n",
    "            seenblocks.append([r[0],r[1]])\n",
    "            walklength+=1\n",
    "    if randdirection ==3:  #up\n",
    "        if [r[0],r[1]+1] not in seenblocks:\n",
    "            r[1]+=1\n",
    "            seenblocks.append([r[0],r[1]])\n",
    "            walklength+=1\n",
    "    if randdirection==4 : #down \n",
    "        if [r[0],r[1]-1] not in seenblocks:\n",
    "            r[1]-=1\n",
    "            seenblocks.append([r[0],r[1]])\n",
    "            walklength+=1\n",
    "#puttting boundries for when the mass reaches a dead end, in that case the RW should be restarted\n",
    "    if ([r[0]-1,r[1]] in seenblocks) and ([r[0]+1,r[1]] in seenblocks) and ([r[0],r[1]+1] in seenblocks) and ([r[0],r[1]-1] in seenblocks):\n",
    "        seenblocks=[]\n",
    "        list.append(walklength)\n",
    "        walklength=0\n",
    "print(\"random walk length everytime it reaches a dead end =\",list)\n",
    "print(\"the coordinate of the mass:\",r)"
   ]
  },
  {
   "cell_type": "markdown",
   "metadata": {},
   "source": [
    "### Cumulative distribution function"
   ]
  },
  {
   "cell_type": "code",
   "execution_count": 72,
   "metadata": {},
   "outputs": [
    {
     "data": {
      "image/png": "[encoded data removed]",
      "text/plain": [
       "<Figure size 640x480 with 1 Axes>"
      ]
     },
     "metadata": {},
     "output_type": "display_data"
    }
   ],
   "source": [
    "import numpy as np\n",
    "import matplotlib.pyplot as plt\n",
    "\n",
    "#sort the data in order so i can draw a curve through the dots of data\n",
    "data = np.array(list)\n",
    "x = np.sort(data)\n",
    "\n",
    "y = np.linspace(0, 1, len(data)) #from y=0 to y=1 i make evenly spaced values (as the number of the datas) distributed\n",
    "\n",
    "\n",
    "plt.plot(x, y, marker=\"o\", linestyle=\"-\", color=\"pink\")\n",
    "plt.xlabel(\"Random Walk Length\")\n",
    "plt.ylabel(\"Cumulative Probability\")\n",
    "plt.plot()\n",
    "plt.show()\n"
   ]
  }
 ],
 "metadata": {
  "kernelspec": {
   "display_name": "base",
   "language": "python",
   "name": "python3"
  },
  "language_info": {
   "codemirror_mode": {
    "name": "ipython",
    "version": 3
   },
   "file_extension": ".py",
   "mimetype": "text/x-python",
   "name": "python",
   "nbconvert_exporter": "python",
   "pygments_lexer": "ipython3",
   "version": "3.12.3"
  }
 },
 "nbformat": 4,
 "nbformat_minor": 2
}
