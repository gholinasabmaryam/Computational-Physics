{
 "cells": [
  {
   "cell_type": "markdown",
   "id": "5d9e6ca0",
   "metadata": {},
   "source": [
    "# **Exercise 9 - The Integrating with Euler method**"
   ]
  },
  {
   "cell_type": "code",
   "execution_count": 22,
   "id": "08628ee1",
   "metadata": {},
   "outputs": [
    {
     "name": "stdout",
     "output_type": "stream",
     "text": [
      "t== 0.0    v=9.900\n",
      "t== 0.01    v=9.801\n",
      "t== 0.02    v=9.703\n",
      "t== 0.03    v=9.606\n",
      "t== 0.04    v=9.510\n",
      "t== 0.05    v=9.415\n",
      "t== 0.06    v=9.321\n",
      "t== 0.07    v=9.227\n",
      "t== 0.08    v=9.135\n",
      "t== 0.09    v=9.044\n",
      "t== 0.1    v=8.953\n",
      "t== 0.11    v=8.864\n",
      "t== 0.12    v=8.775\n",
      "t== 0.13    v=8.687\n",
      "t== 0.14    v=8.601\n",
      "t== 0.15    v=8.515\n",
      "t== 0.16    v=8.429\n",
      "t== 0.17    v=8.345\n",
      "t== 0.18    v=8.262\n",
      "t== 0.19    v=8.179\n",
      "t== 0.2    v=8.097\n",
      "t== 0.21    v=8.016\n",
      "t== 0.22    v=7.936\n",
      "t== 0.23    v=7.857\n",
      "t== 0.24    v=7.778\n",
      "t== 0.25    v=7.700\n",
      "t== 0.26    v=7.623\n",
      "t== 0.27    v=7.547\n",
      "t== 0.28    v=7.472\n",
      "t== 0.29    v=7.397\n",
      "t== 0.3    v=7.323\n",
      "t== 0.31    v=7.250\n",
      "t== 0.32    v=7.177\n",
      "t== 0.33    v=7.106\n",
      "t== 0.34    v=7.034\n",
      "t== 0.35000000000000003    v=6.964\n",
      "t== 0.36    v=6.894\n",
      "t== 0.37    v=6.826\n",
      "t== 0.38    v=6.757\n",
      "t== 0.39    v=6.690\n",
      "t== 0.4    v=6.623\n",
      "t== 0.41000000000000003    v=6.557\n",
      "t== 0.42    v=6.491\n",
      "t== 0.43    v=6.426\n",
      "t== 0.44    v=6.362\n",
      "t== 0.45    v=6.298\n",
      "t== 0.46    v=6.235\n",
      "t== 0.47000000000000003    v=6.173\n",
      "t== 0.48    v=6.111\n",
      "t== 0.49    v=6.050\n",
      "t== 0.5    v=5.990\n",
      "t== 0.51    v=5.930\n",
      "t== 0.52    v=5.870\n",
      "t== 0.53    v=5.812\n",
      "t== 0.54    v=5.754\n",
      "t== 0.55    v=5.696\n",
      "t== 0.56    v=5.639\n",
      "t== 0.5700000000000001    v=5.583\n",
      "t== 0.58    v=5.527\n",
      "t== 0.59    v=5.472\n",
      "t== 0.6    v=5.417\n",
      "t== 0.61    v=5.363\n",
      "t== 0.62    v=5.309\n",
      "t== 0.63    v=5.256\n",
      "t== 0.64    v=5.203\n",
      "t== 0.65    v=5.151\n",
      "t== 0.66    v=5.100\n",
      "t== 0.67    v=5.049\n",
      "t== 0.68    v=4.998\n",
      "t== 0.6900000000000001    v=4.948\n",
      "t== 0.7000000000000001    v=4.899\n",
      "t== 0.71    v=4.850\n",
      "t== 0.72    v=4.801\n",
      "t== 0.73    v=4.753\n",
      "t== 0.74    v=4.706\n",
      "t== 0.75    v=4.659\n",
      "t== 0.76    v=4.612\n",
      "t== 0.77    v=4.566\n",
      "t== 0.78    v=4.520\n",
      "t== 0.79    v=4.475\n",
      "t== 0.8    v=4.430\n",
      "t== 0.81    v=4.386\n",
      "t== 0.8200000000000001    v=4.342\n",
      "t== 0.8300000000000001    v=4.299\n",
      "t== 0.84    v=4.256\n",
      "t== 0.85    v=4.213\n",
      "t== 0.86    v=4.171\n",
      "t== 0.87    v=4.129\n",
      "t== 0.88    v=4.088\n",
      "t== 0.89    v=4.047\n",
      "t== 0.9    v=4.007\n",
      "t== 0.91    v=3.967\n",
      "t== 0.92    v=3.927\n",
      "t== 0.93    v=3.888\n",
      "t== 0.9400000000000001    v=3.849\n",
      "t== 0.9500000000000001    v=3.810\n",
      "t== 0.96    v=3.772\n",
      "t== 0.97    v=3.735\n",
      "t== 0.98    v=3.697\n",
      "t== 0.99    v=3.660\n"
     ]
    },
    {
     "data": {
      "text/plain": [
       "<matplotlib.legend.Legend at 0x1ace9b58f50>"
      ]
     },
     "execution_count": 22,
     "metadata": {},
     "output_type": "execute_result"
    },
    {
     "data": {
      "image/png": "[encoded data removed]",
      "text/plain": [
       "<Figure size 640x480 with 1 Axes>"
      ]
     },
     "metadata": {},
     "output_type": "display_data"
    }
   ],
   "source": [
    "#we want to find the Discharging equation of a capacitor with Euler method\n",
    "\n",
    "import matplotlib.pyplot as plt\n",
    "import numpy as np\n",
    "\n",
    "step=0.01 #step size\n",
    "st=1  #simulation time\n",
    "\n",
    "def f(V): #dv/dt=f(v) -> dv/dt=-v/RC -> (v)=-V\n",
    "    return -V\n",
    "\n",
    "v=10 #initial voltage\n",
    "V=[] \n",
    "t=[]\n",
    "for i in range(int(st/step)):\n",
    "    v+=step*f(v)  # Euler\n",
    "    print('t==',step*i,f'   v={v:.3f}')  # Print current time and voltage\n",
    "    V.append(v) \n",
    "    t.append(step*i)\n",
    "plt.plot(t,V,label='Euler method') \n",
    "\n",
    "#to see how close this method is to the analytic method we got to solve it analytically\n",
    "# dv/dt=-v we guess the solution as v(t)=Be^(At) to find A: we put it to the equetion -> Ae^(At)=-e^(At) -> A=-1 so the solution is v=-e^(-t) \n",
    "x=np.linspace(0,1,100)\n",
    "y=10*np.exp(-x)\n",
    "plt.plot(x,y,label='Analytic method')\n",
    "plt.legend()\n"
   ]
  },
  {
   "cell_type": "code",
   "execution_count": null,
   "id": "8c51ae73",
   "metadata": {},
   "outputs": [],
   "source": []
  }
 ],
 "metadata": {
  "kernelspec": {
   "display_name": "base",
   "language": "python",
   "name": "python3"
  },
  "language_info": {
   "codemirror_mode": {
    "name": "ipython",
    "version": 3
   },
   "file_extension": ".py",
   "mimetype": "text/x-python",
   "name": "python",
   "nbconvert_exporter": "python",
   "pygments_lexer": "ipython3",
   "version": "3.12.3"
  }
 },
 "nbformat": 4,
 "nbformat_minor": 5
}
