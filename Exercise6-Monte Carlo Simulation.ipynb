{
 "cells": [
  {
   "cell_type": "markdown",
   "id": "ecee9003",
   "metadata": {},
   "source": [
    "# **Monte Carlo Simulation** "
   ]
  },
  {
   "cell_type": "markdown",
   "id": "94ea9d02",
   "metadata": {},
   "source": [
    "## Question 7.1 - Buffon's Needle Method (Area Estimation)"
   ]
  },
  {
   "cell_type": "markdown",
   "id": "76db6bb3",
   "metadata": {},
   "source": [
    "### Integral Estimation"
   ]
  },
  {
   "cell_type": "code",
   "execution_count": 5,
   "id": "6dd640ea",
   "metadata": {},
   "outputs": [
    {
     "name": "stdout",
     "output_type": "stream",
     "text": [
      "Integral Stimated Vaule =  -5.840999999999999\n",
      "Error =  0.026500000000000117\n"
     ]
    }
   ],
   "source": [
    "# we want to calculate I=∫²₀(x³−5x)dx using this method:\n",
    "import numpy as np\n",
    "\n",
    "# the x interval:(a,b) \n",
    "a=0 \n",
    "b=2 \n",
    "# the y interval:(0,ym)\n",
    "ym=11 \n",
    "N=10000 #number of the points taken\n",
    "\n",
    "\n",
    "# we split the f(x)=(x³−5x) into two part : f1= x³ & f2= −5x \n",
    "\n",
    "# the 1st part of the f(x): f1= x³\n",
    "Ns=0\n",
    "for i in range (N):\n",
    "    #choosing points randomly in the intervals\n",
    "    x= np.random.randint(a,b)+np.random.rand() #np.random.randint is for having a integer between 0-2 & np.random.rand() is for making the decimal part\n",
    "    y= np.random.randint(0,ym)+np.random.rand()\n",
    " \n",
    "    f1= x**3\n",
    "    if y < f1:\n",
    "        Ns+=1\n",
    "I1=ym*(b-a)*(Ns/N) #the amount of the integral\n",
    "\n",
    "# the 2nd part of the f(x): f2= −5x \n",
    "Ns=0\n",
    "for i in range (N):\n",
    "    #choosing points randomly in the intervals\n",
    "    x= np.random.randint(a,b)+np.random.rand() #np.random.randint is for having a integer between 0-2 & np.random.rand() is for making the decimal part\n",
    "    y= np.random.randint(0,ym)+np.random.rand()\n",
    "\n",
    "    f2= 5*x \n",
    "    if y < f2:\n",
    "        Ns+=1\n",
    "I2=ym*(b-a)*(Ns/N) #the amount of the integral\n",
    "\n",
    "\n",
    "I= I1-I2\n",
    "print(\"Integral Stimated Vaule = \",I)\n",
    "#now for calculating the error of the stimated value \n",
    "realvalue=-6\n",
    "error= abs(I-realvalue)/abs(realvalue)\n",
    "print(\"Error = \",error)"
   ]
  },
  {
   "cell_type": "markdown",
   "id": "8a0588cb",
   "metadata": {},
   "source": [
    "### plotting the Error based on the points"
   ]
  },
  {
   "cell_type": "code",
   "execution_count": 11,
   "id": "8e57d600",
   "metadata": {},
   "outputs": [
    {
     "data": {
      "image/png": "[encoded data removed]",
      "text/plain": [
       "<Figure size 640x480 with 1 Axes>"
      ]
     },
     "metadata": {},
     "output_type": "display_data"
    }
   ],
   "source": [
    "\n",
    "import numpy as np\n",
    "import matplotlib.pyplot as plt\n",
    "\n",
    "# the x interval:(a,b) \n",
    "a=0 \n",
    "b=2 \n",
    "# the y interval:(0,ym)\n",
    "ym=11 \n",
    "N=100 \n",
    "realvalue=-6\n",
    "\n",
    "errorlist=[]\n",
    "step=[]\n",
    "\n",
    "\n",
    "# we split the f(x)=(x³−5x) into two part : f1= x³ & f2= −5x \n",
    "for j in range(1,N,10): #getting every 10 of 1-N of j\n",
    "    # the 1st part of the f(x): f1= x³\n",
    "    Ns=0\n",
    "    for i in range (j):\n",
    "        x= np.random.randint(a,b)+np.random.rand() \n",
    "        y= np.random.randint(0,ym)+np.random.rand()\n",
    "    \n",
    "        f1= x**3\n",
    "        if y < f1:\n",
    "            Ns+=1\n",
    "    I1=ym*(b-a)*(Ns/j) \n",
    "\n",
    "    # the 2nd part of the f(x): f2= −5x \n",
    "    Ns=0\n",
    "    for i in range (j):\n",
    "        x= np.random.randint(a,b)+np.random.rand() \n",
    "        y= np.random.randint(0,ym)+np.random.rand()\n",
    "\n",
    "        f2= 5*x \n",
    "        if y < f2:\n",
    "            Ns+=1\n",
    "    I2=ym*(b-a)*(Ns/j) \n",
    "    I= I1-I2\n",
    "    #making and appending the error each time the I is made\n",
    "    error= abs(I-realvalue)/abs(realvalue)\n",
    "    errorlist.append(error)\n",
    "    step.append(j)\n",
    "\n",
    "plt.plot(step,errorlist)\n",
    "plt.xlabel(\"Points Taken(1in every10)\")\n",
    "plt.ylabel(\"Error\")\n",
    "plt.title(\"Error for N=100\")\n",
    "plt.show()\n"
   ]
  },
  {
   "cell_type": "markdown",
   "id": "68b5b164",
   "metadata": {},
   "source": [
    "## Question 7.2 - Simple & Smart Sampling"
   ]
  },
  {
   "cell_type": "markdown",
   "id": "4e7872dd",
   "metadata": {},
   "source": [
    "### 1. Simple Sampling"
   ]
  },
  {
   "cell_type": "code",
   "execution_count": 7,
   "id": "27ab2714",
   "metadata": {},
   "outputs": [
    {
     "name": "stdout",
     "output_type": "stream",
     "text": [
      "Estimated Value(Simple Sampling)=  0.8971811333179527\n",
      "Real Value =  0.8820813907624216\n",
      "\n",
      "Real Error =  0.017118309844944883\n",
      "Analytic Error =  0.0034525755340008\n",
      "\n",
      "Run Time =  0.08128976821899414\n"
     ]
    }
   ],
   "source": [
    "# we want to calculate I=∫²₀(e^(-x²))dx using two method: 1.Simple Sampling & 2.Smart Sampling\n",
    "# 1.Simple Sampling:  I = (b-a)<f> ; <f>= 1/n ∑^n_(i=1) f(xi)\n",
    "import numpy as np\n",
    "import time\n",
    "starttime=time.time()\n",
    "\n",
    "# the x interval:(a,b) \n",
    "a=0 \n",
    "b=2 \n",
    "N=10000\n",
    "f=0\n",
    "f2=0\n",
    "\n",
    "#the sigma part of the <f>:\n",
    "for i in range(1,N,1):\n",
    "    x= np.random.randint(a,b)+np.random.rand() #np.random.randint is for having a integer between 0-2 & np.random.rand() is for making the decimal part\n",
    "    #the f(xi)\n",
    "    f+=np.e**(-x**2)\n",
    "    f2+= (np.e**(-x**2))**2\n",
    "avgf= f/N #<f>\n",
    "\n",
    "#estimated value of the integral\n",
    "I=(b-a)*avgf\n",
    "print(\"Estimated Value(Simple Sampling)= \",I)\n",
    "\n",
    "#real value of the integral\n",
    "realvalue=0.8820813907624217\n",
    "print(\"Real Value = \",realvalue)\n",
    "\n",
    "print()\n",
    "\n",
    "#real error\n",
    "realerror= abs(I-realvalue)/abs(realvalue)\n",
    "print(\"Real Error = \",realerror)\n",
    "\n",
    "# Analytic Error\n",
    "analyticerror = np.sqrt(abs(f2/N-avgf**2))/np.sqrt(N) #error= 𝜎/sqrt(N)\n",
    "print(\"Analytic Error = \",analyticerror)\n",
    "\n",
    "print()\n",
    "\n",
    "#Run Time:\n",
    "endtime=time.time()\n",
    "print(\"Run Time = \",endtime-starttime)"
   ]
  },
  {
   "cell_type": "markdown",
   "id": "17dc0f86",
   "metadata": {},
   "source": [
    "### 2. Smart Sampling"
   ]
  },
  {
   "cell_type": "code",
   "execution_count": 8,
   "id": "33f638c0",
   "metadata": {},
   "outputs": [
    {
     "name": "stdout",
     "output_type": "stream",
     "text": [
      "Estimated Value(Smart Sampling)=  0.7430022381832485\n",
      "Real Value =  0.8820813907624216\n",
      "\n",
      "Real Error =  0.15767156413872524\n",
      "Analytic Error =  0.0036884974761781614\n",
      "\n",
      "Run Time =  0.09824633598327637\n"
     ]
    }
   ],
   "source": [
    "# we want to calculate I=∫²₀(e^(-x²))dx using two method: 1.Simple Sampling & 2.Smart Sampling\n",
    "# 2.Smart Sampling:   I = (∫g(x)dx(-∞ -> ∞))<f/g>_(g(x)) ; <f/g>_(g(x)) = 1/n ∑^n_(i=1) (f(xi)/ g(xi))\n",
    "import numpy as np\n",
    "import time\n",
    "starttime=time.time()\n",
    "\n",
    "# the x interval:(a,b) \n",
    "a=0 \n",
    "b=2 \n",
    "\n",
    "N=10000\n",
    "fg=0\n",
    "fg2=0\n",
    "\n",
    "\n",
    "#the sigma part of the <f>:\n",
    "for i in range(N):\n",
    "    #x should be choosen from the G ditribution = (e^(-x)) so x= ln(G)\n",
    "    x=-np.log(np.random.randint(a,b)+np.random.rand()) #np.random.randint is for having a integer between 0-2 & np.random.rand() is for making the decimal part\n",
    "    fg+=np.e**(-x**2+x) #the f(xi)/g(xi)\n",
    "    fg2+= (np.e**(-x**2+x))**2\n",
    "\n",
    "avgfg= (fg)/N #<f/g>_(g(x))\n",
    "\n",
    "\n",
    "#estimated value of the integral\n",
    "integralg=1 #∫g(x)dx(-∞ -> ∞)=∫e^(-x)dx(-∞ -> ∞)\n",
    "I=integralg*avgfg\n",
    "print(\"Estimated Value(Smart Sampling)= \",I)\n",
    "\n",
    "#real value of the integral\n",
    "realvalue=0.8820813907624217\n",
    "print(\"Real Value = \",realvalue)\n",
    "\n",
    "print()\n",
    "\n",
    "#real error\n",
    "realerror= abs(I-realvalue)/abs(realvalue)\n",
    "print(\"Real Error = \",realerror)\n",
    "\n",
    "# Analytic Error\n",
    "analyticerror = np.sqrt(abs(fg2/N-avgfg**2))/np.sqrt(N) #error= 𝜎/sqrt(N)\n",
    "print(\"Analytic Error = \",analyticerror)\n",
    "\n",
    "print()\n",
    "\n",
    "#Run Time:\n",
    "endtime=time.time()\n",
    "print(\"Run Time = \",endtime-starttime)"
   ]
  },
  {
   "cell_type": "markdown",
   "id": "54846586",
   "metadata": {},
   "source": [
    "## Question 7.3 - Multiple Integral (Finding the center of mass of a sphere)"
   ]
  },
  {
   "cell_type": "code",
   "execution_count": 9,
   "id": "b818b3f2",
   "metadata": {},
   "outputs": [
    {
     "name": "stdout",
     "output_type": "stream",
     "text": [
      "Mass =  381.63581237587675\n",
      "\n",
      "Coordinates of the COM =  [0, 0, 0.012769495974592076]\n"
     ]
    }
   ],
   "source": [
    "# we want to calculate the center of the mass of a sphere that from up to down the mass is reduced linearly (SO ρ(x)=ax+b) using Simple Sampling\n",
    "# also the least densest point is 1/2 of the most densest point : m= ρ(R)/ρ(-R)=2 -> m= (aR+b)/(-aR+b)=2 -> a=1 , b=3R\n",
    "\n",
    "# 1.Simple Sampling:  I = (b-a)<f> ; <f>= 1/n ∑^n_(i=1) f(xi)\n",
    "import numpy as np\n",
    "\n",
    "R=2 #radius\n",
    "# the x interval:(a,b) \n",
    "c=-R\n",
    "d=R \n",
    "\n",
    "\n",
    "#MASS\n",
    "N=1000\n",
    "f=0\n",
    "for i in range(1,N,1):\n",
    "    z= np.random.randint(c,d)+np.random.rand() #np.random.randint is for having a integer between 0-2 & np.random.rand() is for making the decimal part\n",
    "    #the f(xi)\n",
    "    f+=z+3*R #ρ(z)\n",
    "avgf= f/N  #<f>\n",
    "\n",
    "#estimated value of the integral\n",
    "I=(c-d)*avgf  # Mz=∫ρ(z)dz\n",
    "\n",
    "Mx = 2*R #∫dx \n",
    "My = 2*R #∫dy\n",
    "Mz=I #Mont Carlo : ∫ρ(z)dz\n",
    "M=Mx*My*Mz\n",
    "print(\"Mass = \", abs(M))\n",
    "\n",
    "\n",
    "\n",
    "print()\n",
    "\n",
    "# Coordinate Of the CM:\n",
    "f=0\n",
    "for i in range(1,N,1):\n",
    "    z= np.random.randint(c,d)+np.random.rand() #np.random.randint is for having a integer between 0-2 & np.random.rand() is for making the decimal part\n",
    "    #the f(xi)\n",
    "    f+=z**2+3*R*z #zρ(z)\n",
    "avgf= f/N  #<f>\n",
    "\n",
    "#estimated value of the integral\n",
    "I=(c-d)*avgf  # cz= ∫zρ(z)dz\n",
    "\n",
    "cx=0 #(because of the symmetry)\n",
    "cy=0 #(because of the symmetry)\n",
    "cz= I/M #Mont Carlo : cz= 1/M (∫zρ(z)dz) \n",
    "print(\"Coordinates of the COM = \", [cx,cy,cz])\n",
    "\n"
   ]
  }
 ],
 "metadata": {
  "kernelspec": {
   "display_name": "base",
   "language": "python",
   "name": "python3"
  },
  "language_info": {
   "codemirror_mode": {
    "name": "ipython",
    "version": 3
   },
   "file_extension": ".py",
   "mimetype": "text/x-python",
   "name": "python",
   "nbconvert_exporter": "python",
   "pygments_lexer": "ipython3",
   "version": "3.12.3"
  }
 },
 "nbformat": 4,
 "nbformat_minor": 5
}
